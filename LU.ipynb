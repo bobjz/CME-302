{
 "cells": [
  {
   "cell_type": "code",
   "execution_count": 59,
   "id": "054207ab-0579-43f3-a83e-af03ce20e561",
   "metadata": {},
   "outputs": [],
   "source": [
    "def Lperm_solve_CSR(L_val, L_colval, L_rowptr, b):\n",
    "    n=len(L_rowptr)-1\n",
    "    row_count=[]\n",
    "    for i in range(n): #O(n) subtractions\n",
    "        row_count.append(L_colval[L_rowptr[i+1]-1])\n",
    "    #row_count contains indices of last non-zero entries in each row\n",
    "    #note row_count also reveals the permutation needed to make L lower triangular\n",
    "    #recover the correct ordering of rows, L_rowptr[perm[i]] is the starting point of row of length i\n",
    "    perm=[0 for i in range(n)]\n",
    "    for i in range(n): \n",
    "        perm[row_count[i]]=i\n",
    "    #permute vector b as well to recover the right b to use\n",
    "    permed_b=[]\n",
    "    for i in range(n):\n",
    "        permed_b.append(b[perm[i]])\n",
    "    #Until this point no flops needed\n",
    "    #What is left is simply sparse forward substitution\n",
    "    for i in range(n):\n",
    "        row_ind=perm[i]\n",
    "        start=L_rowptr[row_ind]\n",
    "        end=L_rowptr[row_ind+1]-1 #note we skip diagonals\n",
    "        for j in range(start,end): \n",
    "            #This loop only goes through non-zero entries in the strictly lower triangular part of L\n",
    "            #Thus it has N-n iteration\n",
    "            permed_b[i]-=L_val[j]*permed_b[L_colval[j]] #1 multiplicatioon and 1 substractioon\n",
    "    return permed_b\n",
    "    "
   ]
  },
  {
   "cell_type": "code",
   "execution_count": 62,
   "id": "265af498-885f-45b9-b75b-a1beda87cf57",
   "metadata": {},
   "outputs": [],
   "source": [
    "def run_Lperm_test():\n",
    "    import numpy as np\n",
    "    import random \n",
    "    import scipy.sparse\n",
    "    n=64\n",
    "    for k in range(128):\n",
    "        perm=[i+1 for i in range(n)]\n",
    "        for i in range(1,n):\n",
    "            j=i+1+int(random.random()*(n-i))\n",
    "            assert((i<j) and (j<=n))\n",
    "            p_tmp=perm[i-1]\n",
    "            perm[i-1]=perm[j-1]\n",
    "            perm[j-1]=p_tmp\n",
    "        L=np.zeros([n,n])\n",
    "        p=random.random()\n",
    "        for i in range(1,n+1):\n",
    "            for j in range(1,i):\n",
    "                if random.random()>p:\n",
    "                    L[perm[i-1]-1,j-1]=1.0+(7*i*j)%9\n",
    "            L[perm[i-1]-1,i-1]=1.0\n",
    "        x=[i+1 for i in range(n)]\n",
    "        x_vec=np.reshape(x,(n,1))\n",
    "        b=np.matmul(L,x_vec)[:,0]\n",
    "        L_sparse=scipy.sparse.csr_matrix(L)\n",
    "        Lp=L_sparse.data.tolist()\n",
    "        Lj=L_sparse.indices.tolist()\n",
    "        Lx=L_sparse.indptr.tolist()\n",
    "        assert(x==Lperm_solve_CSR(Lp,Lj,Lx,b))\n",
    "    print(\"test successful!\")"
   ]
  },
  {
   "cell_type": "code",
   "execution_count": 63,
   "id": "7c14dc33-3929-4d5b-bb36-20116f2a66e6",
   "metadata": {},
   "outputs": [
    {
     "name": "stdout",
     "output_type": "stream",
     "text": [
      "test successful!\n"
     ]
    }
   ],
   "source": [
    "run_Lperm_test()"
   ]
  },
  {
   "cell_type": "code",
   "execution_count": null,
   "id": "cee38a84-a524-4959-aaa7-4476654147a5",
   "metadata": {},
   "outputs": [],
   "source": []
  }
 ],
 "metadata": {
  "kernelspec": {
   "display_name": "Python 3",
   "language": "python",
   "name": "python3"
  },
  "language_info": {
   "codemirror_mode": {
    "name": "ipython",
    "version": 3
   },
   "file_extension": ".py",
   "mimetype": "text/x-python",
   "name": "python",
   "nbconvert_exporter": "python",
   "pygments_lexer": "ipython3",
   "version": "3.9.5"
  }
 },
 "nbformat": 4,
 "nbformat_minor": 5
}
