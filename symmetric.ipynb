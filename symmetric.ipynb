{
 "cells": [
  {
   "cell_type": "code",
   "execution_count": 54,
   "id": "8c1ff815-81ef-4c4c-b60c-406354bce3fa",
   "metadata": {},
   "outputs": [],
   "source": [
    "def test_sym(A_val, A_rowval, colptr):\n",
    "    n=len(colptr)-1\n",
    "    A_colptr=colptr.copy() #make a copy so we dont destroy input data\n",
    "    #take O(n) storage of integers\n",
    "    for i in range(n-1):\n",
    "        #This part helps us skip the diagonal entries\n",
    "        if (A_rowval[A_colptr[i]]==i): #1 branching check if it is an entry of form (i,i)\n",
    "            A_colptr[i]+=1 #1 reading+1 writing\n",
    "        #Overal we have n-1 branching and O(n) reading+writing here\n",
    "        for j in range(A_colptr[i],colptr[i+1]): \n",
    "            #this loop(the value of A_val[j]) (essentially) only goes through the non-zero entries in the strictly lower triangular part\n",
    "            #because we skip the diagonal entries and we \"delete\" the nz entries in the i-th row \n",
    "            #corresponding to the nz entries of the i-th column after i-th iteration\n",
    "            #Note it is possible for the loop (A_val[j]) to land on an upper triangular entry, but in this case, it means we did not \"delete\"\n",
    "            #this entry in previous iterations, meaning the corresponding lower triangular entry must be zero and the loop\n",
    "            #will immediately terminate and return false\n",
    "            #Also note this loop can repeat at most ceil(N/2) times because each time we visit one non-zero entry in lower triangular part and \n",
    "            #its counterpart in the upper triangular part, and each non-zero entry can only be visited once by construction (thanks to the deletion operation)\n",
    "            #Therefore, after ceil(N/2) iterations, it would have visited all the nonzero entries and must stop\n",
    "            #Thus total number of iterations for j is ceil(N/2)\n",
    "            row_ind=A_rowval[j]\n",
    "            colp=A_colptr[row_ind]\n",
    "            row_ind2=A_rowval[colp]\n",
    "            # 3 reading+writing, note the storage in the loop are temporary and reused, so they only take O(1) space\n",
    "            if ((i!=row_ind2) or (A_val[j]!=A_val[colp])): #check corresponding upper triangular entry is non-zero and has same value\n",
    "                # 2 readings, 3 boolean operations and 1 branching\n",
    "                return False\n",
    "            A_colptr[row_ind]+=1 #1 reading, 1 writing\n",
    "            #this essentially \"deletes\" the corresponding nz upper triangular entries in the i-th row\n",
    "            #since at this point we have checked that i-th col is the same as the i-th row\n",
    "        #Thus for each j, we perform O(1) reading and writing, O(1) boolean operations and 1 branching\n",
    "        #Total number of instructions is O(N) and total number of branching is at most ceil(N/2)\n",
    "    #Combining everything we see that we use O(n) extra storage of integers\n",
    "    #O(n+N) instructions\n",
    "    #1+n-1+N/2=n+N/2\n",
    "    return True"
   ]
  },
  {
   "cell_type": "code",
   "execution_count": 55,
   "id": "53e17697-70b0-4e65-9910-eb48118d7022",
   "metadata": {},
   "outputs": [],
   "source": [
    "def run_sym_test():\n",
    "    import scipy.sparse\n",
    "    import numpy as np\n",
    "    import random\n",
    "    n = 64\n",
    "    for k in range(1):\n",
    "        A = np.zeros([n,n])\n",
    "        p = random.random()\n",
    "        nnz = 0\n",
    "        for i in range(n):\n",
    "            for j in range(n):\n",
    "                if (random.random() > p):\n",
    "                    A[i, j] = i\n",
    "                    if (i!=j):\n",
    "                        nnz = nnz + 1\n",
    "        A_sparse=scipy.sparse.csc_matrix(A)\n",
    "        Ap=A_sparse.data.tolist()\n",
    "        Ai=A_sparse.indices.tolist()\n",
    "        Ax=A_sparse.indptr.tolist()\n",
    "        if (nnz == 0):\n",
    "        # if nnz = 0 the matrix is symmetric\n",
    "            assert(test_sym (Ap , Ai , Ax))\n",
    "        else:\n",
    "            assert(~test_sym (Ap , Ai , Ax))\n",
    "        A=A+np.transpose(A)\n",
    "        A_sparse=scipy.sparse.csc_matrix(A)\n",
    "        Ap=A_sparse.data\n",
    "        Ai=A_sparse.indices\n",
    "        Ax=A_sparse.indptr\n",
    "        assert(test_sym (Ap , Ai , Ax))\n",
    "    print(\"Test Successful!\")      "
   ]
  },
  {
   "cell_type": "code",
   "execution_count": 56,
   "id": "c0d5ce1f-329b-4e2a-96f6-ca9b89a2943e",
   "metadata": {},
   "outputs": [
    {
     "name": "stdout",
     "output_type": "stream",
     "text": [
      "Test Successful!\n"
     ]
    }
   ],
   "source": [
    "run_sym_test()"
   ]
  }
 ],
 "metadata": {
  "kernelspec": {
   "display_name": "Python 3",
   "language": "python",
   "name": "python3"
  },
  "language_info": {
   "codemirror_mode": {
    "name": "ipython",
    "version": 3
   },
   "file_extension": ".py",
   "mimetype": "text/x-python",
   "name": "python",
   "nbconvert_exporter": "python",
   "pygments_lexer": "ipython3",
   "version": "3.9.5"
  }
 },
 "nbformat": 4,
 "nbformat_minor": 5
}
