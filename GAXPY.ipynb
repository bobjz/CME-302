{
 "cells": [
  {
   "cell_type": "code",
   "execution_count": 46,
   "id": "6fe61635-8b52-4335-aeeb-8144f6c942c4",
   "metadata": {},
   "outputs": [],
   "source": [
    "def GAXPY(A_val, A_rowval, A_colptr,x,y):\n",
    "    for i in range(len(x)):\n",
    "        for j in range(A_colptr[i],A_colptr[i+1]): #this loop essentially goes from 0 to nnz(A)\n",
    "            ind=int(A_rowval[j]) #1 memory read\n",
    "            y[ind]=y[ind]+x[i]*A_val[j] #1 multiplication\n",
    "    #Overall # of multiplication = nnz(A)\n",
    "    #Since we update y in each iteration, no extra storage is needed except for the stoage of inputs\n",
    "    #Floating points storage: A_val takes nnz(A), x takes O(n), y takes O(n)\n",
    "    #Integer storage: A_rowval takes nnz(A), A_colptr takes O(n)"
   ]
  },
  {
   "cell_type": "code",
   "execution_count": 47,
   "id": "b9a6dd64-9de0-484c-8856-bcaf75a80698",
   "metadata": {},
   "outputs": [],
   "source": [
    "def ConvertCSC(A,n,m):\n",
    "    #A which is a list of tuples (row, col, val) and size n,m\n",
    "    #returns 3 lists: A_val, A_rowval, A_colptr\n",
    "    #this code assumes the list of tuples is sorted first in row and then in col\n",
    "    row_vals=[[] for i in range(m)]\n",
    "    nnz_vals=[[] for i in range(m)]\n",
    "    for ent in A:\n",
    "        row=int(ent[0]-1)#use 0-indexing for python\n",
    "        col=int(ent[1]-1)\n",
    "        row_vals[col].append(row)\n",
    "        nnz_vals[col].append(ent[2])\n",
    "    A_val=[]\n",
    "    A_rowval=[]\n",
    "    for i in range(m):\n",
    "        A_val+=nnz_vals[i]\n",
    "        A_rowval+=row_vals[i]\n",
    "    A_colptr=[0]\n",
    "    for i in range(m):\n",
    "        A_colptr.append(A_colptr[-1]+len(row_vals[i]))\n",
    "    return [A_val,A_rowval,A_colptr]"
   ]
  },
  {
   "cell_type": "code",
   "execution_count": 48,
   "id": "8fcaf0de-fb04-4da7-914e-64f52091fbc5",
   "metadata": {},
   "outputs": [],
   "source": [
    "A=[(1,2,2.0),(1,7,7.0),(2,3,6.0),\\\n",
    "   (2,5,10.0),(2,7,14.0),(3,2,6.0),\\\n",
    "   (3,3,9.0),(3,7,21.0),(4,3,12.0),\\\n",
    "   (4,4,16.0),(5,1,5.0),(5,4,20.0),\\\n",
    "   (5,5,25.0),(5,7,35.0),(6,5,30.0),\\\n",
    "   (6,7,42.0),(7,1,7.0),(7,3,21.0),\\\n",
    "   (7,8,56.0),(8,3,24.0),(8,7,56.0)]"
   ]
  },
  {
   "cell_type": "code",
   "execution_count": 49,
   "id": "c21a60ba-9761-4fe5-9333-3a27663f0390",
   "metadata": {},
   "outputs": [],
   "source": [
    "A_val,A_rowval,A_colptr=ConvertCSC(A,8,8)\n",
    "x=[1/i for i in range(1,9)]\n",
    "y=[i*i for i in range(1,9)]"
   ]
  },
  {
   "cell_type": "code",
   "execution_count": 50,
   "id": "7c6be9a5-97cc-453b-b36c-f7356171cbf3",
   "metadata": {},
   "outputs": [
    {
     "name": "stdout",
     "output_type": "stream",
     "text": [
      "[3.0, 10.0, 18.0, 24.0, 45.0, 48.0, 70.0, 80.0]\n"
     ]
    }
   ],
   "source": [
    "GAXPY(A_val,A_rowval,A_colptr,x,y)\n",
    "print(y)"
   ]
  }
 ],
 "metadata": {
  "kernelspec": {
   "display_name": "Python 3",
   "language": "python",
   "name": "python3"
  },
  "language_info": {
   "codemirror_mode": {
    "name": "ipython",
    "version": 3
   },
   "file_extension": ".py",
   "mimetype": "text/x-python",
   "name": "python",
   "nbconvert_exporter": "python",
   "pygments_lexer": "ipython3",
   "version": "3.9.5"
  }
 },
 "nbformat": 4,
 "nbformat_minor": 5
}
